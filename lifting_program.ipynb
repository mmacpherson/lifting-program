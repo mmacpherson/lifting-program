{
 "cells": [
  {
   "cell_type": "markdown",
   "metadata": {
    "deletable": true,
    "editable": true
   },
   "source": [
    "## Mike's Lifting Program Calculator\n",
    "\n",
    "This notebook generates a program based on one variant of the Heavy-Medium-Light scheme.\n",
    "\n",
    "How it works: you pick three lifts; I picked deadlift, squat, and press. Each week you'll do one of them heavy on Monday, one of them medium on Wednesday, and one of them light on Friday. It uses a simple linear progression, running in seven-week cycles of two three-week subcycles plus a rest week.\n",
    "\n",
    "It isn't smart enough as written to handle anything more complicated than that. If you have an injury or a vacation or something, just re-test and reset your goals?\n",
    "\n",
    "This is written in the python programming language. If you don't know python, that's fine: you can still change the loads and dates in the \"Goals\" section, and re-run the notebook using \"Cell > Run All\" above to build a program for yourself.\n",
    "\n",
    "If you do know python, knock yourself out."
   ]
  },
  {
   "cell_type": "markdown",
   "metadata": {},
   "source": [
    "### Goals\n",
    "\n",
    "In this cell we set the start and end goals for the program. In my case, I'm looking to get back to a certain standard of strength after some injuries (and hold it there afterward, for which, different program). I set the standard relative to my bodyweight, and am targeting Jan 1 2018.\n",
    "\n",
    "If your goals are different, like you're shooting for a 500 pound deadlift, easy enough to change.\n",
    "I do assume deadlift, squat, and press. If you want to change lifts, that should be easy enough."
   ]
  },
  {
   "cell_type": "code",
   "execution_count": null,
   "metadata": {
    "collapsed": true
   },
   "outputs": [],
   "source": [
    "BODYWEIGHT = 190\n",
    "\n",
    "DEADLIFT_MAX_BEGIN = 315\n",
    "DEADLIFT_MAX_END = 2.0 * BODYWEIGHT\n",
    "\n",
    "SQUAT_MAX_BEGIN = 285\n",
    "SQUAT_MAX_END = 1.75 * BODYWEIGHT\n",
    "\n",
    "PRESS_MAX_BEGIN = 165\n",
    "PRESS_MAX_END = 1.0 * BODYWEIGHT\n",
    "\n",
    "DATE_BEGIN = '2017-02-06' # -- must use YYYY-MM-DD format\n",
    "DATE_END = '2018-01-01'"
   ]
  },
  {
   "cell_type": "markdown",
   "metadata": {
    "deletable": true,
    "editable": true
   },
   "source": [
    "### Setup/Code\n",
    "\n",
    "This next part spells out the python code needed to construct the lifting program. If you just want to see your program, make sure you've done a \"Cell > Run All\" and scroll to the bottom of the page."
   ]
  },
  {
   "cell_type": "code",
   "execution_count": null,
   "metadata": {
    "collapsed": true
   },
   "outputs": [],
   "source": [
    "import datetime\n",
    "import itertools\n",
    "import math\n",
    "import pandas as pd\n",
    "import seaborn as sns\n",
    "from IPython.display import HTML\n",
    "\n",
    "sns.set_style('darkgrid')\n",
    "%matplotlib inline"
   ]
  },
  {
   "cell_type": "code",
   "execution_count": null,
   "metadata": {
    "collapsed": false,
    "deletable": true,
    "editable": true
   },
   "outputs": [],
   "source": [
    "%%javascript\n",
    "IPython.OutputArea.prototype._should_scroll = function(lines) {\n",
    "    return false;\n",
    "}"
   ]
  },
  {
   "cell_type": "code",
   "execution_count": null,
   "metadata": {
    "collapsed": true
   },
   "outputs": [],
   "source": [
    "# -- A few of the standard 1RM formulas:\n",
    "#    https://en.wikipedia.org/wiki/One-repetition_maximum\n",
    "#    http://rodrigoborges.hospedagemdesites.ws/principal/pdf/avaliacao_02.pdf\n",
    "# -- type-hints are gratuitous; just curious\n",
    "def epley(w: float, r: int) -> float:\n",
    "    return w * (1 + r / 30)\n",
    "\n",
    "def inv_epley(y:float, r:int) -> float:\n",
    "    return y / (1 + r / 30)\n",
    "\n",
    "def brzycki(w: float, r: int) -> float:\n",
    "    return w * 36 / (37 - r)\n",
    "\n",
    "def inv_brzycki(y:float, r:int) -> float:\n",
    "    return y * (37 - r) / 36\n",
    "\n",
    "_mh = lambda r: (52.2 + 41.9 * math.exp(-0.055 * r))\n",
    "def mayhew(w, r):\n",
    "    return 100 * w / _mh(r)\n",
    "\n",
    "def inv_mayhew(y, r):\n",
    "    return y * _mh(r) / 100\n",
    "\n",
    "_w = lambda r: (48.8 + 53.8 * math.exp(-0.075 * r))\n",
    "def wathan(w, r):\n",
    "    return 100 * w / _w(r)\n",
    "\n",
    "def inv_wathan(y, r):\n",
    "    return y * _w(r) / 100"
   ]
  },
  {
   "cell_type": "code",
   "execution_count": null,
   "metadata": {
    "collapsed": false,
    "deletable": true,
    "editable": true
   },
   "outputs": [],
   "source": [
    "# -- shows how the 1RM formulas trail off given a 1RM.\n",
    "# -- Mayhew seems really different/wrong, but it matches what's in the JSCR reference\n",
    "\n",
    "ref = 300\n",
    "trace = lambda f: [f(ref, r + 1) for r in range(10)]\n",
    "traces = \\\n",
    "dict(epley=trace(inv_epley),\n",
    "     brzycki=trace(inv_brzycki),\n",
    "     mayhew=trace(inv_mayhew),\n",
    "     wathan=trace(inv_wathan)\n",
    "    )\n",
    "df = pd.DataFrame(traces, index=trace(lambda x, y: y))\n",
    "df.plot(figsize=(12, 8));\n",
    "\n",
    "rep_fn = wathan\n",
    "inv_rep_fn = inv_wathan"
   ]
  },
  {
   "cell_type": "code",
   "execution_count": null,
   "metadata": {
    "collapsed": false,
    "deletable": true,
    "editable": true
   },
   "outputs": [],
   "source": [
    "def parse_ymd_date(date_str):\n",
    "    \"Input eg 2017-06-19 => June 19th, 2017.\"\n",
    "    try:\n",
    "        return datetime.datetime.strptime(date_str, '%Y-%m-%d').date()\n",
    "    except ValueError:\n",
    "        print('Expected a date like \"YYYY-MM-DD\", you supplied \"{}\".'.format(date_str))\n",
    "#parse_ymd_date(DATE_BEGIN)"
   ]
  },
  {
   "cell_type": "code",
   "execution_count": null,
   "metadata": {
    "collapsed": false,
    "deletable": true,
    "editable": true
   },
   "outputs": [],
   "source": [
    "MON, TUE, WED, THU, FRI, SAT, SUN = range(7) # -- python's convention\n",
    "\n",
    "def next_weekday(d, weekday):\n",
    "    days_ahead = weekday - d.weekday()\n",
    "    if days_ahead < 0: # Target day already happened this week\n",
    "        days_ahead += 7\n",
    "    return d + datetime.timedelta(days_ahead)\n",
    "next_monday = lambda d: next_weekday(d, MON)\n",
    "\n",
    "def daterange(start_date, end_date, step=1):\n",
    "    cur = start_date\n",
    "    while cur <= end_date:\n",
    "        yield cur\n",
    "        cur += datetime.timedelta(days=step)\n",
    "\n",
    "def rotations(seq):\n",
    "    return (seq[i:] + seq[:i] for i in range(len(seq)))\n",
    "\n",
    "def interpolate_1rm(at_date, start_date, end_date, start_1rm, end_1rm):\n",
    "    \"y – y1 = m(x – x1) => y = m(x - x1) + y1\"\n",
    "    m = (end_1rm - start_1rm) / (end_date - start_date).total_seconds()\n",
    "    return m * (at_date - start_date).total_seconds() + start_1rm\n",
    "\n",
    "def snap_to(x, r=1):\n",
    "    'Round to nearest integer `r`.'\n",
    "    return r * round(x / r)"
   ]
  },
  {
   "cell_type": "code",
   "execution_count": null,
   "metadata": {
    "collapsed": false,
    "deletable": true,
    "editable": true
   },
   "outputs": [],
   "source": [
    "MESOCYCLE_LENGTH = 7 # weeks, this program is two three-week cycles and one rest/deload week\n",
    "\n",
    "REP_BASE = 5 # -- this can be changed; how many reps you do per set\n",
    "SET_BASE = 5 # -- this cannot be changed (as written); how many sets on a \"Heavy\" day\n",
    "\n",
    "SCHEME_MAP = dict(heavy=5, medium=4, light=3)\n",
    "SNAP_MAP = dict(Deadlift=5, Squat=5, Press=1)\n",
    "\n",
    "date_begin = next_monday(parse_ymd_date(DATE_BEGIN))\n",
    "date_end = next_monday(parse_ymd_date(DATE_END))\n",
    "\n",
    "lift_default_order = ('Deadlift', 'Squat', 'Press')\n",
    "mesocycle = list(rotations(lift_default_order)) + list(rotations(lift_default_order)) + ['rest']\n",
    "\n",
    "deadlift_1rm = lambda d: interpolate_1rm(d, date_begin, date_end, DEADLIFT_MAX_BEGIN, DEADLIFT_MAX_END)\n",
    "squat_1rm = lambda d: interpolate_1rm(d, date_begin, date_end, SQUAT_MAX_BEGIN, SQUAT_MAX_END)\n",
    "press_1rm = lambda d: interpolate_1rm(d, date_begin, date_end, PRESS_MAX_BEGIN, PRESS_MAX_END)\n",
    "\n",
    "def lifts_asof(d):\n",
    "    return dict(Deadlift=deadlift_1rm(d),\n",
    "                Squat=squat_1rm(d),\n",
    "                Press=press_1rm(d))\n",
    "\n",
    "def make_set(max_, n, rep_base=REP_BASE, res=1):\n",
    "    return [snap_to(inv_rep_fn(max_, 3 * rep_base - SET_BASE - (i + 1)), res) for i in range(n)]"
   ]
  },
  {
   "cell_type": "code",
   "execution_count": null,
   "metadata": {
    "collapsed": false
   },
   "outputs": [],
   "source": [
    "# -- build program\n",
    "mesocycle_start_dates = list(daterange(date_begin, date_end, step=7 * MESOCYCLE_LENGTH))\n",
    "\n",
    "html = []\n",
    "\n",
    "for msi, ms in enumerate(mesocycle_start_dates):\n",
    "    # -- determine 1RMs for the mesocycle\n",
    "    # -- without great justification, or great worry, I define as the working 1RM\n",
    "    #    the Monday of the second week of each three-week cycle\n",
    "    ref_1rm_1 = ms + datetime.timedelta(2 * 7)\n",
    "    ref_1rm_2 = ms + datetime.timedelta(5 * 7)\n",
    "    \n",
    "    lifts_1rm_1 = lifts_asof(ref_1rm_1)\n",
    "    lifts_1rm_2 = lifts_asof(ref_1rm_2)\n",
    "    \n",
    "    maxes_by_week = [lifts_1rm_1] * 3 + [lifts_1rm_2] * 3 + [None]\n",
    "    \n",
    "    week_starts = daterange(ms, ms + datetime.timedelta(7 * MESOCYCLE_LENGTH - 1), step=7)\n",
    "    \n",
    "    html.append(\"<h3>Mesocycle {} of {}</h3><hr/>\".format(msi + 1, len(mesocycle_start_dates)))\n",
    "    for week, lifts, maxes in zip(week_starts, mesocycle, maxes_by_week):\n",
    "        html.append('<h4>Week of {}</h4><br/>'.format(datetime.datetime.strftime(week, '%B %e, %Y')))\n",
    "        if lifts == 'rest':\n",
    "            html.append('Rest Week!')\n",
    "        else:\n",
    "            # -- this is one week\n",
    "            dates = daterange(week, week + datetime.timedelta(5), step=2)\n",
    "            scheme = ('heavy', 'medium', 'light')\n",
    "            for day, lift, lift_type in zip(dates, lifts, scheme):\n",
    "                this_set = make_set(maxes[lift], SCHEME_MAP[lift_type], res=SNAP_MAP[lift])\n",
    "                html.append('&nbsp;<strong>{}</strong><br/>'.format(datetime.datetime.strftime(day, '%A, %b %e')))\n",
    "                html.append('&nbsp;{} {}X {}<br/><br/>'.format(lift, REP_BASE, ' '.join(str(e) for e in this_set)))\n",
    "    html.append('<hr/>')"
   ]
  },
  {
   "cell_type": "markdown",
   "metadata": {
    "deletable": true,
    "editable": true
   },
   "source": [
    "### Your Program!"
   ]
  },
  {
   "cell_type": "code",
   "execution_count": null,
   "metadata": {
    "collapsed": false,
    "deletable": true,
    "editable": true
   },
   "outputs": [],
   "source": [
    "HTML(''.join(html))"
   ]
  }
 ],
 "metadata": {
  "kernelspec": {
   "display_name": "Python 3",
   "language": "python",
   "name": "python3"
  },
  "language_info": {
   "codemirror_mode": {
    "name": "ipython",
    "version": 3
   },
   "file_extension": ".py",
   "mimetype": "text/x-python",
   "name": "python",
   "nbconvert_exporter": "python",
   "pygments_lexer": "ipython3",
   "version": "3.5.2"
  }
 },
 "nbformat": 4,
 "nbformat_minor": 2
}
